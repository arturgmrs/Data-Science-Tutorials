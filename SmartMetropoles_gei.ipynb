{
  "nbformat": 4,
  "nbformat_minor": 0,
  "metadata": {
    "colab": {
      "name": "SmartMetropoles_gei.ipynb",
      "provenance": [],
      "authorship_tag": "ABX9TyNl38dPJt6sdkezxlcBHXHE",
      "include_colab_link": true
    },
    "kernelspec": {
      "name": "python3",
      "display_name": "Python 3"
    }
  },
  "cells": [
    {
      "cell_type": "markdown",
      "metadata": {
        "id": "view-in-github",
        "colab_type": "text"
      },
      "source": [
        "<a href=\"https://colab.research.google.com/github/arturgmrs/Data-Science-Tutorials/blob/master/SmartMetropoles_gei.ipynb\" target=\"_parent\"><img src=\"https://colab.research.google.com/assets/colab-badge.svg\" alt=\"Open In Colab\"/></a>"
      ]
    },
    {
      "cell_type": "markdown",
      "metadata": {
        "id": "ovlvgAPAXFtB"
      },
      "source": [
        "# Smart Metropolis\r\n",
        "\r\n",
        "Educação Básica no Território Inteligente e  Sustentável Pesquisa e Inovação no Município de São  Gonçalo do Amarante\r\n",
        "\r\n",
        "**Relatório 2019 - 2020**\r\n",
        "\r\n",
        "[Betania Leite Ramalho](https://sigaa.ufrn.br/sigaa/public/docente/portal.jsf?siape=333491)\r\n",
        "DPEC - DEPARTAMENTO DE PRÁTICAS EDUCACIONAIS E CURRÍCULO"
      ]
    },
    {
      "cell_type": "markdown",
      "metadata": {
        "id": "fHoiFlfZENO6"
      },
      "source": [
        "#I. Introdução\r\n",
        "**Compromisso e responsabilidade social da UFRN**\r\n",
        "\r\n",
        "O projeto, inspira-se no modelo preconizado pela Organização das Nações Unidas - UNESCO, convencida de que “os indivíduos devem se tornar agentes de mudança direcionada à sustentabilidade, dotados de conhecimentos, habilidades, valores e atitudes que lhes permitam contribuir para o desenvolvimento sustentável”.\r\n",
        "\r\n",
        "O projeto Educação Básica no Território Inteligente e Sustentável, é um desdobramento do Programa de Gestão da Educação da Rede Estadual de Ensino, (2011-2014), quando foi implantado o Sistema de Gestão da Educação – SIGEduc/RN. Em 2018 inclui-se no  SMART Metrópole do Instituto Metrópole Digital, ampliando as possibilidades de inovação mediada pelas TIC's.\r\n",
        "\r\n",
        "**Resultados alcançados:** \r\n",
        "1.   Customização da Plataforma Smart GeoLayers – Education (SGeoL - Educ) \r\n",
        "```\r\n",
        "Uma plataforma de georreferenciamento que situa a educação no “território inteligente” e possibilita integrar dados de diversas fontes (geográficos, sociais, culturais, de saúde, de segurança pública, áreas de risco, etc.)\r\n",
        "```\r\n",
        "\r\n",
        "2.   Desenvolvimento do [SGA-RN - DashBoard](https://sites.google.com/view/sga-rn-dashboard/início?authuser=0). \r\n",
        "\r\n",
        "\r\n",
        "---\r\n",
        "\r\n",
        "\r\n",
        "Os trabalhos mencionados são estratégicos para contribuir a problemática identificada através das estatísticas do INEP, estas revelam que há décadas, o quadro de dificuldades permanece praticamente inalterado no plano das aprendizagens e nos demais indicadores do desempenho escolar, além de uma defasagem expressiva no âmbito da estrutura do modelo de gestão da educação como um todo."
      ]
    },
    {
      "cell_type": "markdown",
      "metadata": {
        "id": "EdC_DpZC_iKz"
      },
      "source": [
        ""
      ]
    },
    {
      "cell_type": "markdown",
      "metadata": {
        "id": "BHQIB4YGEvbV"
      },
      "source": [
        "# II. O projeto \r\n",
        "Educação Básica no Território Inteligente e Sustentável: Pesquisa e Inovação no Município de São Gonçalo do Amarante\r\n",
        "\r\n",
        "O projeto **Educação Básica no Território Inteligente e Sustentável** é um braço do [Projeto Smart Metrópole do IMD/UFRN](https://smartmetropolis.imd.ufrn.br), representando uma iniciativa da política de articulação da UFRN com os Municípios. \r\n",
        "\r\n",
        "Trata-se de um projeto multidisciplinar, que envolve especialistas de várias instituições (do país e do exterior) que atuam em diferentes áreas como: Educação, Engenharia de Soltware, Geografia, Tecnologias da Informação, Demografia, Estatística etc. O estudo piloto acontece no município de São Gonçalo do Amarante, situado na região metropolitana de Natal, RN. \r\n",
        "\r\n",
        "Os objetivos macros são:\r\n",
        "1.   Desenvolver Tecnologias para prospectar modelos de gestão da educação municipal, identificando soluções melhoria das proficiências de língua portuguesa e matemática, seguindo orientações da BNCC, no Ensino Fundamental;\r\n",
        "2. Desenvolver metodologias para capacitar professores e gestores;\r\n",
        "3. Promover transferências de conhecimentos, habilidades e competências básicas na escola básica por meio de projetos pilotos voltados para a (re)organização dos sistemas educativos nos moldes do Território Inteligente e Sustentável;\r\n",
        "4. Potencializar a interface entre o MEC, o INEP a Universidade Pública e os Sistemas de Ensino da Educação Básica para elevar a qualidade da educação;\r\n",
        "5. Procurar superar o hiato, entre a produção acadêmica e a formulação e execução de políticas públicas com demandas efetivas;\r\n",
        "6. Produzir materiais pedagógicos inovadores, informes, conhecimentos de suporte e de planificação, em cooperação com as equipes parceiras e municípios.\r\n",
        "\r\n",
        "\r\n"
      ]
    },
    {
      "cell_type": "markdown",
      "metadata": {
        "id": "S21frrxhFWcs"
      },
      "source": [
        "# III. Implementação\r\n",
        "\r\n",
        "O projeto foi demandado em 31/01/2019, em reunião no IMD/UFRN, com o Dir.do IMD, (Prof. Ivonildo Rêgo e professores vinculados ao Projeto), o Pref. Paulo Emídio de Medeiros e o Secr. de Educação Abel Neto. O Prefeito apresentou as demandas educacionais de SGA e outras. Concomitantemente foi prospectado análises de fatores da educação municipal, os indicadores sociais, demográficos, econômicos entre outros, situados no território de SGA, servindo de base de referência para a intervenção. \r\n",
        "\r\n",
        "Além de realizadas reuniões para auscultar a equipe gestora da Secretaria Municipal de Educação sobre: organização escolar, realidade das escolas em relação ao desempenho dos alunos, gestão da sala de aula, atividades didáticas pedagógicas em curso, dificuldades de implementação dos “protocolos pedagógicos, demandas escolares dos alunos, banco de dados e outros."
      ]
    },
    {
      "cell_type": "markdown",
      "metadata": {
        "id": "SkKh-tGytImD"
      },
      "source": [
        "# IV. Objetivos\r\n",
        "**Objetivo Geral:**\r\n",
        "\r\n",
        "O piloto SGA, possui como objetivo desenvolver estudos de tecnologia educacional e inovações pedagógicas, potencializando alternativas para gestores, professores e cidadãos usuários do sistema público de ensino, visando minimizar problemas de insucesso escolar.\r\n",
        "\r\n",
        "**Objetivos Específicos:**\r\n",
        "\r\n",
        "A) Oferecer uma plataforma computacional para a gestão de informações georeferenciadas da educação. \r\n",
        "\r\n",
        "1. Georeferenciar (por meio da Plataforma SGEOL-Educ/SGA), analisar e prospectar informações educacionais, sócio-econômicas, demográficas, familiar, sinalizadoras de vulneabilidades do território da rede escolar municipal.\r\n",
        "2. Customizar a plataforma SGEOL para SGA, permitindo a gestão de informações sócio-educacionais, demográficas, e índices de qualidade da trajetória escolar; possibilitando uma análise multidimensional e territorizada da educação;\r\n",
        "3. Elaborar o Mapa de Vulnerabilidades (intra e extra escolares) do Território, para situar fatores preditores do insucesso escolar do Ensino Fundamental;\r\n",
        "4. Desenvolver estudos analíticos e propositivos (técnicas estatísticas multivariadas) sobre os fatores de vulnerabilidades sociais e educativas (entre outras) presentes no território onde se insere a escola;\r\n",
        "5. Elaborar uma Cartografia Georeferenciada do desempenho dos alunos no território  onde se insere o estudo, apontando situações de vulnerabilidades sociais educativas e propor soluções;\r\n",
        "6. Escrever relatórios analíticos e Técnicos sobre os Objetivos apontados.\r\n",
        "\r\n",
        "b) Realizar estudos analíticos e Prospectivos \r\n",
        "\r\n",
        "1. Desenvolver estudos analíticos por meio de métodos estatísticos e análises multivariadas sobre fatores de vulnerabilidades sociais, educativas, demográficas, familiar entre outros,  presentes no território onde se insere a escola. \r\n",
        "2. Realizar Análises Pedagógicas da Prova Brasil para potencializar o Estudo dos Erros dos alunos em português e matemática (EF);\r\n",
        "3. Elaborar uma Cartografia Georeferenciada dos Erros e Desempenho dos Alunos no Território a partir de correlações pautadas em fatores de vulnerabilidades cognitivas, sociais, demográficas, familiar entre outros fatores;\r\n",
        "\r\n",
        "c) Aplicar técnicas pedagógicas inovadoras com uso de TI e Robótica\r\n",
        "\r\n",
        "\r\n",
        "\r\n",
        "\r\n"
      ]
    },
    {
      "cell_type": "markdown",
      "metadata": {
        "id": "2NN6C5_l3Q05"
      },
      "source": [
        "# IV. Plano de ação\r\n",
        "Diagnóstico e Prospecção\r\n",
        "\r\n",
        "* Diagnóstico e Prospecção\r\n",
        "> Estratégias para o envolvimento dos integrantes do grupo identificando necessidades do contexto educativo escolar e do território onde se situa a escola e toda sua comunidade escolar. Essas atividades envolveram, de forma participativa, professores, estudantes de pós-graduação, técnicos da Seduc/SGA. "
      ]
    }
  ]
}